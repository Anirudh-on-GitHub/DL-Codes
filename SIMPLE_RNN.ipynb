{
  "nbformat": 4,
  "nbformat_minor": 0,
  "metadata": {
    "colab": {
      "provenance": []
    },
    "kernelspec": {
      "name": "python3",
      "display_name": "Python 3"
    },
    "language_info": {
      "name": "python"
    }
  },
  "cells": [
    {
      "cell_type": "code",
      "source": [
        "from pandas import read_csv\n",
        "import numpy as np\n",
        "from keras.models import Sequential\n",
        "from keras.layers import Dense, SimpleRNN\n",
        "from sklearn.preprocessing import MinMaxScaler\n",
        "from sklearn.metrics import mean_squared_error\n",
        "import math\n",
        "import matplotlib.pyplot as plt\n"
      ],
      "metadata": {
        "id": "fR4xG0qeJ-Af"
      },
      "execution_count": 1,
      "outputs": []
    },
    {
      "cell_type": "code",
      "source": [
        "def create_RNN(hidden_units, dense_units, input_shape, activation):\n",
        "    model = Sequential()\n",
        "    model.add(SimpleRNN(hidden_units, input_shape=input_shape,\n",
        "                        activation=activation[0]))\n",
        "    model.add(Dense(units=dense_units, activation=activation[1]))\n",
        "    model.compile(loss='mean_squared_error', optimizer='adam')\n",
        "    return model\n",
        "\n",
        "demo_model = create_RNN(2, 1, (3,1), activation=['linear', 'linear'])"
      ],
      "metadata": {
        "id": "XWoHcbbXLhgk"
      },
      "execution_count": 2,
      "outputs": []
    },
    {
      "cell_type": "code",
      "source": [
        "wx = demo_model.get_weights()[0]\n",
        "wh = demo_model.get_weights()[1]\n",
        "bh = demo_model.get_weights()[2]\n",
        "wy = demo_model.get_weights()[3]\n",
        "by = demo_model.get_weights()[4]\n",
        "\n",
        "print('wx = ', wx, ' wh = ', wh, ' bh = ', bh, ' wy =', wy, 'by = ', by)"
      ],
      "metadata": {
        "colab": {
          "base_uri": "https://localhost:8080/"
        },
        "id": "Du1OW2OKLquc",
        "outputId": "15627aa0-91e2-48f1-9dea-343ceb765056"
      },
      "execution_count": 3,
      "outputs": [
        {
          "output_type": "stream",
          "name": "stdout",
          "text": [
            "wx =  [[-0.15711808 -0.8879063 ]]  wh =  [[ 0.5481944   0.83635086]\n",
            " [ 0.83635086 -0.5481945 ]]  bh =  [0. 0.]  wy = [[0.16577709]\n",
            " [1.2861744 ]] by =  [0.]\n"
          ]
        }
      ]
    },
    {
      "cell_type": "code",
      "source": [
        "x = np.array([1, 2, 3])\n",
        "# Reshape the input to the required sample_size x time_steps x features\n",
        "x_input = np.reshape(x,(1, 3, 1))\n",
        "y_pred_model = demo_model.predict(x_input)\n",
        "\n",
        "\n",
        "m = 2\n",
        "h0 = np.zeros(m)\n",
        "h1 = np.dot(x[0], wx) + h0 + bh\n",
        "h2 = np.dot(x[1], wx) + np.dot(h1,wh) + bh\n",
        "h3 = np.dot(x[2], wx) + np.dot(h2,wh) + bh\n",
        "o3 = np.dot(h3, wy) + by\n",
        "\n",
        "print('h1 = ', h1,'h2 = ', h2,'h3 = ', h3)\n",
        "\n",
        "print(\"Prediction from network \", y_pred_model)\n",
        "print(\"Prediction from our computation \", o3)"
      ],
      "metadata": {
        "colab": {
          "base_uri": "https://localhost:8080/"
        },
        "id": "eDvx0aKoLxW6",
        "outputId": "7c295cf3-db16-4b33-8dd2-ea923ebd7497"
      },
      "execution_count": 4,
      "outputs": [
        {
          "output_type": "stream",
          "name": "stdout",
          "text": [
            "1/1 [==============================] - 1s 794ms/step\n",
            "h1 =  [[-0.15711808 -0.88790631]] h2 =  [[-1.14296862 -1.42047309]] h3 =  [[-2.28593714 -2.84094616]]\n",
            "Prediction from network  [[-4.0329084]]\n",
            "Prediction from our computation  [[-4.03290827]]\n"
          ]
        }
      ]
    }
  ]
}