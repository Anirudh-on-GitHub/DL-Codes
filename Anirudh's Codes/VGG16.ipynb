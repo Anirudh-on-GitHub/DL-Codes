{
  "nbformat": 4,
  "nbformat_minor": 0,
  "metadata": {
    "colab": {
      "provenance": [],
      "gpuType": "T4",
      "authorship_tag": "ABX9TyN978DIP9TKJCcA7xEzq0Cd",
      "include_colab_link": true
    },
    "kernelspec": {
      "name": "python3",
      "display_name": "Python 3"
    },
    "language_info": {
      "name": "python"
    },
    "accelerator": "GPU"
  },
  "cells": [
    {
      "cell_type": "markdown",
      "metadata": {
        "id": "view-in-github",
        "colab_type": "text"
      },
      "source": [
        "<a href=\"https://colab.research.google.com/github/Anirudh-on-GitHub/DL-Codes/blob/master/VGG16.ipynb\" target=\"_parent\"><img src=\"https://colab.research.google.com/assets/colab-badge.svg\" alt=\"Open In Colab\"/></a>"
      ]
    },
    {
      "cell_type": "code",
      "execution_count": null,
      "metadata": {
        "id": "DYHaTUfL0IaY"
      },
      "outputs": [],
      "source": [
        "import torchvision.transforms as transforms\n",
        "import torchvision.models as models\n",
        "from PIL import Image\n",
        "import torch"
      ]
    },
    {
      "cell_type": "code",
      "source": [
        "vgg16=models.vgg16(pretrained=True)\n",
        "vgg16.eval()"
      ],
      "metadata": {
        "id": "0RtFdQNw2B69"
      },
      "execution_count": null,
      "outputs": []
    },
    {
      "cell_type": "code",
      "source": [
        "transform = transforms.Compose([\n",
        "    transforms.Resize(256),\n",
        "    transforms.CenterCrop(224),\n",
        "    transforms.ToTensor(),\n",
        "    transforms.Normalize(mean=[0.485, 0.456, 0.406], std=[0.229, 0.224, 0.225]),\n",
        "])"
      ],
      "metadata": {
        "id": "vZ3GZNOM2PY8"
      },
      "execution_count": null,
      "outputs": []
    },
    {
      "cell_type": "code",
      "source": [
        "image_path = '/content/dog.png'\n",
        "image = Image.open(image_path).convert('RGB')  # Convert to RGB mode if necessary\n",
        "image = transform(image).unsqueeze(0)  # Add batch dimension"
      ],
      "metadata": {
        "id": "8_fIwMAl2pbM"
      },
      "execution_count": null,
      "outputs": []
    },
    {
      "cell_type": "code",
      "source": [
        "with torch.no_grad():\n",
        "  outputs = vgg16(image)\n",
        "class_index=torch.argmax(outputs,dim=1).item()\n",
        "print(\"Predicted class index:\", class_index)\n",
        "confidence_score=outputs[0,class_index].item()\n",
        "print(\"Confidence Score\",confidence_score)"
      ],
      "metadata": {
        "colab": {
          "base_uri": "https://localhost:8080/"
        },
        "id": "cYbdmPGC2ztX",
        "outputId": "13117fc1-f931-438e-98d3-7a729009836f"
      },
      "execution_count": null,
      "outputs": [
        {
          "output_type": "stream",
          "name": "stdout",
          "text": [
            "Predicted class index: 207\n",
            "Confidence Score 18.05486488342285\n"
          ]
        }
      ]
    },
    {
      "cell_type": "code",
      "source": [],
      "metadata": {
        "id": "lA38U4CB2_11"
      },
      "execution_count": null,
      "outputs": []
    }
  ]
}
