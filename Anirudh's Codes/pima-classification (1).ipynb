{
 "cells": [
  {
   "cell_type": "code",
   "execution_count": 1,
   "id": "8cfa3137",
   "metadata": {
    "_cell_guid": "b1076dfc-b9ad-4769-8c92-a6c4dae69d19",
    "_uuid": "8f2839f25d086af736a60e9eeb907d3b93b6e0e5",
    "execution": {
     "iopub.execute_input": "2024-01-27T18:17:35.609982Z",
     "iopub.status.busy": "2024-01-27T18:17:35.609541Z",
     "iopub.status.idle": "2024-01-27T18:17:36.373709Z",
     "shell.execute_reply": "2024-01-27T18:17:36.372722Z"
    },
    "papermill": {
     "duration": 0.774776,
     "end_time": "2024-01-27T18:17:36.376668",
     "exception": false,
     "start_time": "2024-01-27T18:17:35.601892",
     "status": "completed"
    },
    "tags": []
   },
   "outputs": [
    {
     "name": "stdout",
     "output_type": "stream",
     "text": [
      "/kaggle/input/pima-indians-diabetes-database/diabetes.csv\n"
     ]
    }
   ],
   "source": [
    "# This Python 3 environment comes with many helpful analytics libraries installed\n",
    "# It is defined by the kaggle/python Docker image: https://github.com/kaggle/docker-python\n",
    "# For example, here's several helpful packages to load\n",
    "\n",
    "import numpy as np # linear algebra\n",
    "import pandas as pd # data processing, CSV file I/O (e.g. pd.read_csv)\n",
    "\n",
    "# Input data files are available in the read-only \"../input/\" directory\n",
    "# For example, running this (by clicking run or pressing Shift+Enter) will list all files under the input directory\n",
    "\n",
    "import os\n",
    "for dirname, _, filenames in os.walk('/kaggle/input'):\n",
    "    for filename in filenames:\n",
    "        print(os.path.join(dirname, filename))\n",
    "\n",
    "# You can write up to 20GB to the current directory (/kaggle/working/) that gets preserved as output when you create a version using \"Save & Run All\" \n",
    "# You can also write temporary files to /kaggle/temp/, but they won't be saved outside of the current session"
   ]
  },
  {
   "cell_type": "code",
   "execution_count": 2,
   "id": "92f69ff2",
   "metadata": {
    "execution": {
     "iopub.execute_input": "2024-01-27T18:17:36.388256Z",
     "iopub.status.busy": "2024-01-27T18:17:36.387790Z",
     "iopub.status.idle": "2024-01-27T18:17:36.392291Z",
     "shell.execute_reply": "2024-01-27T18:17:36.391343Z"
    },
    "papermill": {
     "duration": 0.012548,
     "end_time": "2024-01-27T18:17:36.394440",
     "exception": false,
     "start_time": "2024-01-27T18:17:36.381892",
     "status": "completed"
    },
    "tags": []
   },
   "outputs": [],
   "source": [
    "import numpy as np\n",
    "import pandas as pd"
   ]
  },
  {
   "cell_type": "code",
   "execution_count": 3,
   "id": "dda5226d",
   "metadata": {
    "execution": {
     "iopub.execute_input": "2024-01-27T18:17:36.406340Z",
     "iopub.status.busy": "2024-01-27T18:17:36.405354Z",
     "iopub.status.idle": "2024-01-27T18:17:36.441413Z",
     "shell.execute_reply": "2024-01-27T18:17:36.440455Z"
    },
    "papermill": {
     "duration": 0.044489,
     "end_time": "2024-01-27T18:17:36.443736",
     "exception": false,
     "start_time": "2024-01-27T18:17:36.399247",
     "status": "completed"
    },
    "tags": []
   },
   "outputs": [
    {
     "data": {
      "text/html": [
       "<div>\n",
       "<style scoped>\n",
       "    .dataframe tbody tr th:only-of-type {\n",
       "        vertical-align: middle;\n",
       "    }\n",
       "\n",
       "    .dataframe tbody tr th {\n",
       "        vertical-align: top;\n",
       "    }\n",
       "\n",
       "    .dataframe thead th {\n",
       "        text-align: right;\n",
       "    }\n",
       "</style>\n",
       "<table border=\"1\" class=\"dataframe\">\n",
       "  <thead>\n",
       "    <tr style=\"text-align: right;\">\n",
       "      <th></th>\n",
       "      <th>Pregnancies</th>\n",
       "      <th>Glucose</th>\n",
       "      <th>BloodPressure</th>\n",
       "      <th>SkinThickness</th>\n",
       "      <th>Insulin</th>\n",
       "      <th>BMI</th>\n",
       "      <th>DiabetesPedigreeFunction</th>\n",
       "      <th>Age</th>\n",
       "      <th>Outcome</th>\n",
       "    </tr>\n",
       "  </thead>\n",
       "  <tbody>\n",
       "    <tr>\n",
       "      <th>0</th>\n",
       "      <td>6</td>\n",
       "      <td>148</td>\n",
       "      <td>72</td>\n",
       "      <td>35</td>\n",
       "      <td>0</td>\n",
       "      <td>33.6</td>\n",
       "      <td>0.627</td>\n",
       "      <td>50</td>\n",
       "      <td>1</td>\n",
       "    </tr>\n",
       "    <tr>\n",
       "      <th>1</th>\n",
       "      <td>1</td>\n",
       "      <td>85</td>\n",
       "      <td>66</td>\n",
       "      <td>29</td>\n",
       "      <td>0</td>\n",
       "      <td>26.6</td>\n",
       "      <td>0.351</td>\n",
       "      <td>31</td>\n",
       "      <td>0</td>\n",
       "    </tr>\n",
       "    <tr>\n",
       "      <th>2</th>\n",
       "      <td>8</td>\n",
       "      <td>183</td>\n",
       "      <td>64</td>\n",
       "      <td>0</td>\n",
       "      <td>0</td>\n",
       "      <td>23.3</td>\n",
       "      <td>0.672</td>\n",
       "      <td>32</td>\n",
       "      <td>1</td>\n",
       "    </tr>\n",
       "    <tr>\n",
       "      <th>3</th>\n",
       "      <td>1</td>\n",
       "      <td>89</td>\n",
       "      <td>66</td>\n",
       "      <td>23</td>\n",
       "      <td>94</td>\n",
       "      <td>28.1</td>\n",
       "      <td>0.167</td>\n",
       "      <td>21</td>\n",
       "      <td>0</td>\n",
       "    </tr>\n",
       "    <tr>\n",
       "      <th>4</th>\n",
       "      <td>0</td>\n",
       "      <td>137</td>\n",
       "      <td>40</td>\n",
       "      <td>35</td>\n",
       "      <td>168</td>\n",
       "      <td>43.1</td>\n",
       "      <td>2.288</td>\n",
       "      <td>33</td>\n",
       "      <td>1</td>\n",
       "    </tr>\n",
       "  </tbody>\n",
       "</table>\n",
       "</div>"
      ],
      "text/plain": [
       "   Pregnancies  Glucose  BloodPressure  SkinThickness  Insulin   BMI  \\\n",
       "0            6      148             72             35        0  33.6   \n",
       "1            1       85             66             29        0  26.6   \n",
       "2            8      183             64              0        0  23.3   \n",
       "3            1       89             66             23       94  28.1   \n",
       "4            0      137             40             35      168  43.1   \n",
       "\n",
       "   DiabetesPedigreeFunction  Age  Outcome  \n",
       "0                     0.627   50        1  \n",
       "1                     0.351   31        0  \n",
       "2                     0.672   32        1  \n",
       "3                     0.167   21        0  \n",
       "4                     2.288   33        1  "
      ]
     },
     "execution_count": 3,
     "metadata": {},
     "output_type": "execute_result"
    }
   ],
   "source": [
    "df=pd.read_csv(\"/kaggle/input/pima-indians-diabetes-database/diabetes.csv\")\n",
    "df.head()"
   ]
  },
  {
   "cell_type": "code",
   "execution_count": 4,
   "id": "11fbdb1f",
   "metadata": {
    "execution": {
     "iopub.execute_input": "2024-01-27T18:17:36.455907Z",
     "iopub.status.busy": "2024-01-27T18:17:36.455578Z",
     "iopub.status.idle": "2024-01-27T18:17:36.466502Z",
     "shell.execute_reply": "2024-01-27T18:17:36.465554Z"
    },
    "papermill": {
     "duration": 0.019138,
     "end_time": "2024-01-27T18:17:36.468606",
     "exception": false,
     "start_time": "2024-01-27T18:17:36.449468",
     "status": "completed"
    },
    "tags": []
   },
   "outputs": [],
   "source": [
    "X=df.drop('Outcome',axis=1)\n",
    "y=df['Outcome']"
   ]
  },
  {
   "cell_type": "code",
   "execution_count": 5,
   "id": "49df88ca",
   "metadata": {
    "execution": {
     "iopub.execute_input": "2024-01-27T18:17:36.481197Z",
     "iopub.status.busy": "2024-01-27T18:17:36.480664Z",
     "iopub.status.idle": "2024-01-27T18:17:37.414233Z",
     "shell.execute_reply": "2024-01-27T18:17:37.413340Z"
    },
    "papermill": {
     "duration": 0.942278,
     "end_time": "2024-01-27T18:17:37.416617",
     "exception": false,
     "start_time": "2024-01-27T18:17:36.474339",
     "status": "completed"
    },
    "tags": []
   },
   "outputs": [
    {
     "name": "stderr",
     "output_type": "stream",
     "text": [
      "/opt/conda/lib/python3.10/site-packages/scipy/__init__.py:146: UserWarning: A NumPy version >=1.16.5 and <1.23.0 is required for this version of SciPy (detected version 1.24.3\n",
      "  warnings.warn(f\"A NumPy version >={np_minversion} and <{np_maxversion}\"\n"
     ]
    }
   ],
   "source": [
    "from sklearn.preprocessing import MinMaxScaler\n",
    "from sklearn.model_selection import train_test_split\n"
   ]
  },
  {
   "cell_type": "code",
   "execution_count": 6,
   "id": "5415ba76",
   "metadata": {
    "execution": {
     "iopub.execute_input": "2024-01-27T18:17:37.428465Z",
     "iopub.status.busy": "2024-01-27T18:17:37.427865Z",
     "iopub.status.idle": "2024-01-27T18:17:37.435385Z",
     "shell.execute_reply": "2024-01-27T18:17:37.434495Z"
    },
    "papermill": {
     "duration": 0.015439,
     "end_time": "2024-01-27T18:17:37.437326",
     "exception": false,
     "start_time": "2024-01-27T18:17:37.421887",
     "status": "completed"
    },
    "tags": []
   },
   "outputs": [],
   "source": [
    "X_train,X_test,y_train,y_test=train_test_split(X,y,test_size=0.3,random_state=42)"
   ]
  },
  {
   "cell_type": "code",
   "execution_count": 7,
   "id": "6afac674",
   "metadata": {
    "execution": {
     "iopub.execute_input": "2024-01-27T18:17:37.448218Z",
     "iopub.status.busy": "2024-01-27T18:17:37.447903Z",
     "iopub.status.idle": "2024-01-27T18:17:37.457160Z",
     "shell.execute_reply": "2024-01-27T18:17:37.456272Z"
    },
    "papermill": {
     "duration": 0.016837,
     "end_time": "2024-01-27T18:17:37.459107",
     "exception": false,
     "start_time": "2024-01-27T18:17:37.442270",
     "status": "completed"
    },
    "tags": []
   },
   "outputs": [],
   "source": [
    "scaler=MinMaxScaler()\n",
    "X_train=scaler.fit_transform(X_train)\n",
    "X_test=scaler.transform(X_test)"
   ]
  },
  {
   "cell_type": "code",
   "execution_count": 8,
   "id": "141aefec",
   "metadata": {
    "execution": {
     "iopub.execute_input": "2024-01-27T18:17:37.470714Z",
     "iopub.status.busy": "2024-01-27T18:17:37.470372Z",
     "iopub.status.idle": "2024-01-27T18:17:49.019841Z",
     "shell.execute_reply": "2024-01-27T18:17:49.018963Z"
    },
    "papermill": {
     "duration": 11.55798,
     "end_time": "2024-01-27T18:17:49.022266",
     "exception": false,
     "start_time": "2024-01-27T18:17:37.464286",
     "status": "completed"
    },
    "tags": []
   },
   "outputs": [],
   "source": [
    "from keras import models\n",
    "from keras import layers"
   ]
  },
  {
   "cell_type": "code",
   "execution_count": 9,
   "id": "976169cc",
   "metadata": {
    "execution": {
     "iopub.execute_input": "2024-01-27T18:17:49.034891Z",
     "iopub.status.busy": "2024-01-27T18:17:49.033732Z",
     "iopub.status.idle": "2024-01-27T18:17:49.040198Z",
     "shell.execute_reply": "2024-01-27T18:17:49.039233Z"
    },
    "papermill": {
     "duration": 0.01471,
     "end_time": "2024-01-27T18:17:49.042219",
     "exception": false,
     "start_time": "2024-01-27T18:17:49.027509",
     "status": "completed"
    },
    "tags": []
   },
   "outputs": [
    {
     "data": {
      "text/plain": [
       "8"
      ]
     },
     "execution_count": 9,
     "metadata": {},
     "output_type": "execute_result"
    }
   ],
   "source": [
    "ip=X_train.shape\n",
    "ip=ip[1]\n",
    "ip"
   ]
  },
  {
   "cell_type": "code",
   "execution_count": 10,
   "id": "d22fffb0",
   "metadata": {
    "execution": {
     "iopub.execute_input": "2024-01-27T18:17:49.054582Z",
     "iopub.status.busy": "2024-01-27T18:17:49.053844Z",
     "iopub.status.idle": "2024-01-27T18:17:50.065691Z",
     "shell.execute_reply": "2024-01-27T18:17:50.064847Z"
    },
    "papermill": {
     "duration": 1.020505,
     "end_time": "2024-01-27T18:17:50.068094",
     "exception": false,
     "start_time": "2024-01-27T18:17:49.047589",
     "status": "completed"
    },
    "tags": []
   },
   "outputs": [],
   "source": [
    "network=models.Sequential()\n",
    "network.add(layers.Dense(10,activation='relu',input_shape=[ip,]))\n",
    "network.add(layers.Dense(5,activation='relu'))\n",
    "network.add(layers.Dense(1,activation='sigmoid'))"
   ]
  },
  {
   "cell_type": "code",
   "execution_count": 11,
   "id": "fa93fd1f",
   "metadata": {
    "execution": {
     "iopub.execute_input": "2024-01-27T18:17:50.080464Z",
     "iopub.status.busy": "2024-01-27T18:17:50.079822Z",
     "iopub.status.idle": "2024-01-27T18:17:50.098320Z",
     "shell.execute_reply": "2024-01-27T18:17:50.097476Z"
    },
    "papermill": {
     "duration": 0.027231,
     "end_time": "2024-01-27T18:17:50.100660",
     "exception": false,
     "start_time": "2024-01-27T18:17:50.073429",
     "status": "completed"
    },
    "tags": []
   },
   "outputs": [],
   "source": [
    "network.compile(loss='binary_crossentropy',optimizer='adam',metrics=['accuracy'])"
   ]
  },
  {
   "cell_type": "code",
   "execution_count": 12,
   "id": "6ddb1da2",
   "metadata": {
    "execution": {
     "iopub.execute_input": "2024-01-27T18:17:50.113617Z",
     "iopub.status.busy": "2024-01-27T18:17:50.113257Z",
     "iopub.status.idle": "2024-01-27T18:18:03.438927Z",
     "shell.execute_reply": "2024-01-27T18:18:03.438003Z"
    },
    "papermill": {
     "duration": 13.334538,
     "end_time": "2024-01-27T18:18:03.440813",
     "exception": false,
     "start_time": "2024-01-27T18:17:50.106275",
     "status": "completed"
    },
    "tags": []
   },
   "outputs": [
    {
     "name": "stdout",
     "output_type": "stream",
     "text": [
      "Epoch 1/100\n",
      "34/34 [==============================] - 2s 3ms/step - loss: 0.6862 - accuracy: 0.6052\n",
      "Epoch 2/100\n",
      "34/34 [==============================] - 0s 3ms/step - loss: 0.6696 - accuracy: 0.6499\n",
      "Epoch 3/100\n",
      "34/34 [==============================] - 0s 3ms/step - loss: 0.6619 - accuracy: 0.6499\n",
      "Epoch 4/100\n",
      "34/34 [==============================] - 0s 3ms/step - loss: 0.6563 - accuracy: 0.6499\n",
      "Epoch 5/100\n",
      "34/34 [==============================] - 0s 3ms/step - loss: 0.6520 - accuracy: 0.6499\n",
      "Epoch 6/100\n",
      "34/34 [==============================] - 0s 3ms/step - loss: 0.6470 - accuracy: 0.6499\n",
      "Epoch 7/100\n",
      "34/34 [==============================] - 0s 3ms/step - loss: 0.6386 - accuracy: 0.6499\n",
      "Epoch 8/100\n",
      "34/34 [==============================] - 0s 3ms/step - loss: 0.6317 - accuracy: 0.6518\n",
      "Epoch 9/100\n",
      "34/34 [==============================] - 0s 3ms/step - loss: 0.6221 - accuracy: 0.6536\n",
      "Epoch 10/100\n",
      "34/34 [==============================] - 0s 3ms/step - loss: 0.6100 - accuracy: 0.6667\n",
      "Epoch 11/100\n",
      "34/34 [==============================] - 0s 3ms/step - loss: 0.6000 - accuracy: 0.6685\n",
      "Epoch 12/100\n",
      "34/34 [==============================] - 0s 3ms/step - loss: 0.5901 - accuracy: 0.6946\n",
      "Epoch 13/100\n",
      "34/34 [==============================] - 0s 3ms/step - loss: 0.5830 - accuracy: 0.6853\n",
      "Epoch 14/100\n",
      "34/34 [==============================] - 0s 3ms/step - loss: 0.5737 - accuracy: 0.6965\n",
      "Epoch 15/100\n",
      "34/34 [==============================] - 0s 3ms/step - loss: 0.5647 - accuracy: 0.7058\n",
      "Epoch 16/100\n",
      "34/34 [==============================] - 0s 3ms/step - loss: 0.5576 - accuracy: 0.6965\n",
      "Epoch 17/100\n",
      "34/34 [==============================] - 0s 3ms/step - loss: 0.5501 - accuracy: 0.7039\n",
      "Epoch 18/100\n",
      "34/34 [==============================] - 0s 3ms/step - loss: 0.5444 - accuracy: 0.7114\n",
      "Epoch 19/100\n",
      "34/34 [==============================] - 0s 3ms/step - loss: 0.5365 - accuracy: 0.7318\n",
      "Epoch 20/100\n",
      "34/34 [==============================] - 0s 3ms/step - loss: 0.5318 - accuracy: 0.7393\n",
      "Epoch 21/100\n",
      "34/34 [==============================] - 0s 3ms/step - loss: 0.5327 - accuracy: 0.7169\n",
      "Epoch 22/100\n",
      "34/34 [==============================] - 0s 3ms/step - loss: 0.5192 - accuracy: 0.7467\n",
      "Epoch 23/100\n",
      "34/34 [==============================] - 0s 3ms/step - loss: 0.5171 - accuracy: 0.7374\n",
      "Epoch 24/100\n",
      "34/34 [==============================] - 0s 3ms/step - loss: 0.5129 - accuracy: 0.7356\n",
      "Epoch 25/100\n",
      "34/34 [==============================] - 0s 3ms/step - loss: 0.5050 - accuracy: 0.7523\n",
      "Epoch 26/100\n",
      "34/34 [==============================] - 0s 3ms/step - loss: 0.4996 - accuracy: 0.7579\n",
      "Epoch 27/100\n",
      "34/34 [==============================] - 0s 3ms/step - loss: 0.4949 - accuracy: 0.7579\n",
      "Epoch 28/100\n",
      "34/34 [==============================] - 0s 3ms/step - loss: 0.4950 - accuracy: 0.7579\n",
      "Epoch 29/100\n",
      "34/34 [==============================] - 0s 3ms/step - loss: 0.4913 - accuracy: 0.7561\n",
      "Epoch 30/100\n",
      "34/34 [==============================] - 0s 3ms/step - loss: 0.4859 - accuracy: 0.7616\n",
      "Epoch 31/100\n",
      "34/34 [==============================] - 0s 3ms/step - loss: 0.4874 - accuracy: 0.7691\n",
      "Epoch 32/100\n",
      "34/34 [==============================] - 0s 3ms/step - loss: 0.4803 - accuracy: 0.7691\n",
      "Epoch 33/100\n",
      "34/34 [==============================] - 0s 3ms/step - loss: 0.4782 - accuracy: 0.7598\n",
      "Epoch 34/100\n",
      "34/34 [==============================] - 0s 3ms/step - loss: 0.4738 - accuracy: 0.7858\n",
      "Epoch 35/100\n",
      "34/34 [==============================] - 0s 3ms/step - loss: 0.4718 - accuracy: 0.7765\n",
      "Epoch 36/100\n",
      "34/34 [==============================] - 0s 3ms/step - loss: 0.4709 - accuracy: 0.7747\n",
      "Epoch 37/100\n",
      "34/34 [==============================] - 0s 3ms/step - loss: 0.4664 - accuracy: 0.7840\n",
      "Epoch 38/100\n",
      "34/34 [==============================] - 0s 3ms/step - loss: 0.4647 - accuracy: 0.7840\n",
      "Epoch 39/100\n",
      "34/34 [==============================] - 0s 3ms/step - loss: 0.4641 - accuracy: 0.7821\n",
      "Epoch 40/100\n",
      "34/34 [==============================] - 0s 3ms/step - loss: 0.4613 - accuracy: 0.7821\n",
      "Epoch 41/100\n",
      "34/34 [==============================] - 0s 3ms/step - loss: 0.4596 - accuracy: 0.7933\n",
      "Epoch 42/100\n",
      "34/34 [==============================] - 0s 3ms/step - loss: 0.4614 - accuracy: 0.7821\n",
      "Epoch 43/100\n",
      "34/34 [==============================] - 0s 3ms/step - loss: 0.4566 - accuracy: 0.7896\n",
      "Epoch 44/100\n",
      "34/34 [==============================] - 0s 3ms/step - loss: 0.4562 - accuracy: 0.7821\n",
      "Epoch 45/100\n",
      "34/34 [==============================] - 0s 3ms/step - loss: 0.4557 - accuracy: 0.7821\n",
      "Epoch 46/100\n",
      "34/34 [==============================] - 0s 3ms/step - loss: 0.4548 - accuracy: 0.7914\n",
      "Epoch 47/100\n",
      "34/34 [==============================] - 0s 3ms/step - loss: 0.4517 - accuracy: 0.7914\n",
      "Epoch 48/100\n",
      "34/34 [==============================] - 0s 3ms/step - loss: 0.4517 - accuracy: 0.7858\n",
      "Epoch 49/100\n",
      "34/34 [==============================] - 0s 3ms/step - loss: 0.4500 - accuracy: 0.7933\n",
      "Epoch 50/100\n",
      "34/34 [==============================] - 0s 3ms/step - loss: 0.4498 - accuracy: 0.7896\n",
      "Epoch 51/100\n",
      "34/34 [==============================] - 0s 3ms/step - loss: 0.4492 - accuracy: 0.7914\n",
      "Epoch 52/100\n",
      "34/34 [==============================] - 0s 3ms/step - loss: 0.4539 - accuracy: 0.7970\n",
      "Epoch 53/100\n",
      "34/34 [==============================] - 0s 3ms/step - loss: 0.4471 - accuracy: 0.7877\n",
      "Epoch 54/100\n",
      "34/34 [==============================] - 0s 3ms/step - loss: 0.4448 - accuracy: 0.7933\n",
      "Epoch 55/100\n",
      "34/34 [==============================] - 0s 3ms/step - loss: 0.4445 - accuracy: 0.7840\n",
      "Epoch 56/100\n",
      "34/34 [==============================] - 0s 3ms/step - loss: 0.4426 - accuracy: 0.7896\n",
      "Epoch 57/100\n",
      "34/34 [==============================] - 0s 3ms/step - loss: 0.4440 - accuracy: 0.7914\n",
      "Epoch 58/100\n",
      "34/34 [==============================] - 0s 3ms/step - loss: 0.4418 - accuracy: 0.7933\n",
      "Epoch 59/100\n",
      "34/34 [==============================] - 0s 3ms/step - loss: 0.4441 - accuracy: 0.8007\n",
      "Epoch 60/100\n",
      "34/34 [==============================] - 0s 3ms/step - loss: 0.4411 - accuracy: 0.7952\n",
      "Epoch 61/100\n",
      "34/34 [==============================] - 0s 3ms/step - loss: 0.4404 - accuracy: 0.7933\n",
      "Epoch 62/100\n",
      "34/34 [==============================] - 0s 3ms/step - loss: 0.4403 - accuracy: 0.7989\n",
      "Epoch 63/100\n",
      "34/34 [==============================] - 0s 3ms/step - loss: 0.4415 - accuracy: 0.7933\n",
      "Epoch 64/100\n",
      "34/34 [==============================] - 0s 3ms/step - loss: 0.4381 - accuracy: 0.7933\n",
      "Epoch 65/100\n",
      "34/34 [==============================] - 0s 3ms/step - loss: 0.4378 - accuracy: 0.7914\n",
      "Epoch 66/100\n",
      "34/34 [==============================] - 0s 3ms/step - loss: 0.4366 - accuracy: 0.7970\n",
      "Epoch 67/100\n",
      "34/34 [==============================] - 0s 3ms/step - loss: 0.4371 - accuracy: 0.7896\n",
      "Epoch 68/100\n",
      "34/34 [==============================] - 0s 3ms/step - loss: 0.4426 - accuracy: 0.7933\n",
      "Epoch 69/100\n",
      "34/34 [==============================] - 0s 3ms/step - loss: 0.4400 - accuracy: 0.7970\n",
      "Epoch 70/100\n",
      "34/34 [==============================] - 0s 3ms/step - loss: 0.4377 - accuracy: 0.7952\n",
      "Epoch 71/100\n",
      "34/34 [==============================] - 0s 3ms/step - loss: 0.4357 - accuracy: 0.8007\n",
      "Epoch 72/100\n",
      "34/34 [==============================] - 0s 4ms/step - loss: 0.4400 - accuracy: 0.7933\n",
      "Epoch 73/100\n",
      "34/34 [==============================] - 0s 3ms/step - loss: 0.4337 - accuracy: 0.7952\n",
      "Epoch 74/100\n",
      "34/34 [==============================] - 0s 3ms/step - loss: 0.4330 - accuracy: 0.8063\n",
      "Epoch 75/100\n",
      "34/34 [==============================] - 0s 3ms/step - loss: 0.4372 - accuracy: 0.7896\n",
      "Epoch 76/100\n",
      "34/34 [==============================] - 0s 3ms/step - loss: 0.4308 - accuracy: 0.7970\n",
      "Epoch 77/100\n",
      "34/34 [==============================] - 0s 3ms/step - loss: 0.4333 - accuracy: 0.7989\n",
      "Epoch 78/100\n",
      "34/34 [==============================] - 0s 3ms/step - loss: 0.4381 - accuracy: 0.7877\n",
      "Epoch 79/100\n",
      "34/34 [==============================] - 0s 3ms/step - loss: 0.4325 - accuracy: 0.7933\n",
      "Epoch 80/100\n",
      "34/34 [==============================] - 0s 3ms/step - loss: 0.4347 - accuracy: 0.7970\n",
      "Epoch 81/100\n",
      "34/34 [==============================] - 0s 3ms/step - loss: 0.4349 - accuracy: 0.8007\n",
      "Epoch 82/100\n",
      "34/34 [==============================] - 0s 3ms/step - loss: 0.4316 - accuracy: 0.7840\n",
      "Epoch 83/100\n",
      "34/34 [==============================] - 0s 3ms/step - loss: 0.4312 - accuracy: 0.7952\n",
      "Epoch 84/100\n",
      "34/34 [==============================] - 0s 3ms/step - loss: 0.4302 - accuracy: 0.7896\n",
      "Epoch 85/100\n",
      "34/34 [==============================] - 0s 3ms/step - loss: 0.4328 - accuracy: 0.7896\n",
      "Epoch 86/100\n",
      "34/34 [==============================] - 0s 3ms/step - loss: 0.4349 - accuracy: 0.7970\n",
      "Epoch 87/100\n",
      "34/34 [==============================] - 0s 3ms/step - loss: 0.4328 - accuracy: 0.7914\n",
      "Epoch 88/100\n",
      "34/34 [==============================] - 0s 3ms/step - loss: 0.4303 - accuracy: 0.7933\n",
      "Epoch 89/100\n",
      "34/34 [==============================] - 0s 3ms/step - loss: 0.4315 - accuracy: 0.7952\n",
      "Epoch 90/100\n",
      "34/34 [==============================] - 0s 3ms/step - loss: 0.4295 - accuracy: 0.7933\n",
      "Epoch 91/100\n",
      "34/34 [==============================] - 0s 3ms/step - loss: 0.4291 - accuracy: 0.7933\n",
      "Epoch 92/100\n",
      "34/34 [==============================] - 0s 3ms/step - loss: 0.4283 - accuracy: 0.7933\n",
      "Epoch 93/100\n",
      "34/34 [==============================] - 0s 3ms/step - loss: 0.4299 - accuracy: 0.7914\n",
      "Epoch 94/100\n",
      "34/34 [==============================] - 0s 3ms/step - loss: 0.4295 - accuracy: 0.7933\n",
      "Epoch 95/100\n",
      "34/34 [==============================] - 0s 3ms/step - loss: 0.4301 - accuracy: 0.7970\n",
      "Epoch 96/100\n",
      "34/34 [==============================] - 0s 3ms/step - loss: 0.4275 - accuracy: 0.7877\n",
      "Epoch 97/100\n",
      "34/34 [==============================] - 0s 3ms/step - loss: 0.4277 - accuracy: 0.7914\n",
      "Epoch 98/100\n",
      "34/34 [==============================] - 0s 3ms/step - loss: 0.4308 - accuracy: 0.7896\n",
      "Epoch 99/100\n",
      "34/34 [==============================] - 0s 3ms/step - loss: 0.4324 - accuracy: 0.8007\n",
      "Epoch 100/100\n",
      "34/34 [==============================] - 0s 3ms/step - loss: 0.4330 - accuracy: 0.7989\n"
     ]
    },
    {
     "data": {
      "text/plain": [
       "<keras.src.callbacks.History at 0x7bdedb49b040>"
      ]
     },
     "execution_count": 12,
     "metadata": {},
     "output_type": "execute_result"
    }
   ],
   "source": [
    "network.fit(X_train,y_train,epochs=100,batch_size=16)"
   ]
  },
  {
   "cell_type": "code",
   "execution_count": 13,
   "id": "236c933d",
   "metadata": {
    "execution": {
     "iopub.execute_input": "2024-01-27T18:18:03.518259Z",
     "iopub.status.busy": "2024-01-27T18:18:03.517548Z",
     "iopub.status.idle": "2024-01-27T18:18:03.793355Z",
     "shell.execute_reply": "2024-01-27T18:18:03.792368Z"
    },
    "papermill": {
     "duration": 0.316716,
     "end_time": "2024-01-27T18:18:03.795621",
     "exception": false,
     "start_time": "2024-01-27T18:18:03.478905",
     "status": "completed"
    },
    "tags": []
   },
   "outputs": [
    {
     "data": {
      "image/png": "[encoded data removed]",
      "text/plain": [
       "<Figure size 640x480 with 1 Axes>"
      ]
     },
     "metadata": {},
     "output_type": "display_data"
    }
   ],
   "source": [
    "import matplotlib.pyplot as plt\n",
    "history=network.history.history\n",
    "plt.plot(history['accuracy'])\n",
    "plt.xlabel('epochs')\n",
    "plt.ylabel('accuracy')\n",
    "plt.show()"
   ]
  },
  {
   "cell_type": "code",
   "execution_count": null,
   "id": "e0af7c91",
   "metadata": {
    "execution": {
     "iopub.execute_input": "2024-01-27T18:16:56.676200Z",
     "iopub.status.busy": "2024-01-27T18:16:56.675444Z",
     "iopub.status.idle": "2024-01-27T18:16:56.711357Z",
     "shell.execute_reply": "2024-01-27T18:16:56.710171Z",
     "shell.execute_reply.started": "2024-01-27T18:16:56.676166Z"
    },
    "papermill": {
     "duration": 0.037465,
     "end_time": "2024-01-27T18:18:03.870951",
     "exception": false,
     "start_time": "2024-01-27T18:18:03.833486",
     "status": "completed"
    },
    "tags": []
   },
   "outputs": [],
   "source": []
  },
  {
   "cell_type": "code",
   "execution_count": null,
   "id": "b178b24d",
   "metadata": {
    "papermill": {
     "duration": 0.037067,
     "end_time": "2024-01-27T18:18:03.945523",
     "exception": false,
     "start_time": "2024-01-27T18:18:03.908456",
     "status": "completed"
    },
    "tags": []
   },
   "outputs": [],
   "source": []
  }
 ],
 "metadata": {
  "kaggle": {
   "accelerator": "gpu",
   "dataSources": [
    {
     "datasetId": 228,
     "sourceId": 482,
     "sourceType": "datasetVersion"
    }
   ],
   "dockerImageVersionId": 30636,
   "isGpuEnabled": true,
   "isInternetEnabled": true,
   "language": "python",
   "sourceType": "notebook"
  },
  "kernelspec": {
   "display_name": "Python 3",
   "language": "python",
   "name": "python3"
  },
  "language_info": {
   "codemirror_mode": {
    "name": "ipython",
    "version": 3
   },
   "file_extension": ".py",
   "mimetype": "text/x-python",
   "name": "python",
   "nbconvert_exporter": "python",
   "pygments_lexer": "ipython3",
   "version": "3.10.12"
  },
  "papermill": {
   "default_parameters": {},
   "duration": 34.586042,
   "end_time": "2024-01-27T18:18:06.695290",
   "environment_variables": {},
   "exception": null,
   "input_path": "__notebook__.ipynb",
   "output_path": "__notebook__.ipynb",
   "parameters": {},
   "start_time": "2024-01-27T18:17:32.109248",
   "version": "2.4.0"
  }
 },
 "nbformat": 4,
 "nbformat_minor": 5
}
