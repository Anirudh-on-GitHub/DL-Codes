{
  "nbformat": 4,
  "nbformat_minor": 0,
  "metadata": {
    "colab": {
      "provenance": [],
      "authorship_tag": "ABX9TyMhR4V3bvssDwMUZOWR5Qki",
      "include_colab_link": true
    },
    "kernelspec": {
      "name": "python3",
      "display_name": "Python 3"
    },
    "language_info": {
      "name": "python"
    }
  },
  "cells": [
    {
      "cell_type": "markdown",
      "metadata": {
        "id": "view-in-github",
        "colab_type": "text"
      },
      "source": [
        "<a href=\"https://colab.research.google.com/github/Anirudh-on-GitHub/DL-Codes/blob/master/GoogleNet.ipynb\" target=\"_parent\"><img src=\"https://colab.research.google.com/assets/colab-badge.svg\" alt=\"Open In Colab\"/></a>"
      ]
    },
    {
      "cell_type": "code",
      "execution_count": null,
      "metadata": {
        "id": "ZS8ACY6KDRrl"
      },
      "outputs": [],
      "source": [
        "import torchvision.transforms as transforms\n",
        "import torchvision.models as models\n",
        "from PIL import Image\n",
        "import torch"
      ]
    },
    {
      "cell_type": "code",
      "source": [
        "google=models.googlenet(pretrained=True)\n",
        "google.eval()"
      ],
      "metadata": {
        "id": "hhWLdhXsDXQ2"
      },
      "execution_count": null,
      "outputs": []
    },
    {
      "cell_type": "code",
      "source": [
        "transform = transforms.Compose([\n",
        "    transforms.Resize(256),\n",
        "    transforms.CenterCrop(224),\n",
        "    transforms.ToTensor(),\n",
        "    transforms.Normalize(mean=[0.485, 0.456, 0.406], std=[0.229, 0.224, 0.225]),\n",
        "])"
      ],
      "metadata": {
        "id": "Wpmp-ZlJDhrT"
      },
      "execution_count": null,
      "outputs": []
    },
    {
      "cell_type": "code",
      "source": [
        "image_path = '/content/dog.png'\n",
        "image = Image.open(image_path).convert('RGB')  # Convert to RGB mode if necessary\n",
        "image = transform(image).unsqueeze(0)  # Add batch dimension"
      ],
      "metadata": {
        "id": "eNH6HOPsDnWV"
      },
      "execution_count": null,
      "outputs": []
    },
    {
      "cell_type": "code",
      "source": [
        "with torch.no_grad():\n",
        "  outputs = google(image)"
      ],
      "metadata": {
        "id": "LfuuL5V-DtR4"
      },
      "execution_count": null,
      "outputs": []
    },
    {
      "cell_type": "code",
      "source": [
        "class_index=torch.argmax(outputs,dim=1).item()\n",
        "print(\"Predicted class index:\", class_index)\n",
        "confidence_score=outputs[0,class_index].item()\n",
        "print(\"Confidence Score\",confidence_score)"
      ],
      "metadata": {
        "colab": {
          "base_uri": "https://localhost:8080/"
        },
        "id": "XxtAyuGCDxbM",
        "outputId": "96c203c1-78a7-46b8-9cf4-1c1ad3fc750c"
      },
      "execution_count": null,
      "outputs": [
        {
          "output_type": "stream",
          "name": "stdout",
          "text": [
            "Predicted class index: 207\n",
            "Confidence Score 8.532662391662598\n"
          ]
        }
      ]
    },
    {
      "cell_type": "code",
      "source": [],
      "metadata": {
        "id": "jpi5PKd4D7kR"
      },
      "execution_count": null,
      "outputs": []
    }
  ]
}
