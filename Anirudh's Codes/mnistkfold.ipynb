{
 "cells": [
  {
   "cell_type": "code",
   "execution_count": 1,
   "id": "543260ef",
   "metadata": {
    "_cell_guid": "b1076dfc-b9ad-4769-8c92-a6c4dae69d19",
    "_uuid": "8f2839f25d086af736a60e9eeb907d3b93b6e0e5",
    "execution": {
     "iopub.execute_input": "2024-01-27T19:06:11.980075Z",
     "iopub.status.busy": "2024-01-27T19:06:11.979756Z",
     "iopub.status.idle": "2024-01-27T19:06:12.646407Z",
     "shell.execute_reply": "2024-01-27T19:06:12.645677Z"
    },
    "papermill": {
     "duration": 0.673496,
     "end_time": "2024-01-27T19:06:12.648712",
     "exception": false,
     "start_time": "2024-01-27T19:06:11.975216",
     "status": "completed"
    },
    "tags": []
   },
   "outputs": [],
   "source": [
    "# This Python 3 environment comes with many helpful analytics libraries installed\n",
    "# It is defined by the kaggle/python Docker image: https://github.com/kaggle/docker-python\n",
    "# For example, here's several helpful packages to load\n",
    "\n",
    "import numpy as np # linear algebra\n",
    "import pandas as pd # data processing, CSV file I/O (e.g. pd.read_csv)\n",
    "\n",
    "# Input data files are available in the read-only \"../input/\" directory\n",
    "# For example, running this (by clicking run or pressing Shift+Enter) will list all files under the input directory\n",
    "\n",
    "import os\n",
    "for dirname, _, filenames in os.walk('/kaggle/input'):\n",
    "    for filename in filenames:\n",
    "        print(os.path.join(dirname, filename))\n",
    "\n",
    "# You can write up to 20GB to the current directory (/kaggle/working/) that gets preserved as output when you create a version using \"Save & Run All\" \n",
    "# You can also write temporary files to /kaggle/temp/, but they won't be saved outside of the current session"
   ]
  },
  {
   "cell_type": "code",
   "execution_count": 2,
   "id": "9be5ea1c",
   "metadata": {
    "execution": {
     "iopub.execute_input": "2024-01-27T19:06:12.656188Z",
     "iopub.status.busy": "2024-01-27T19:06:12.655797Z",
     "iopub.status.idle": "2024-01-27T19:06:24.163304Z",
     "shell.execute_reply": "2024-01-27T19:06:24.162505Z"
    },
    "papermill": {
     "duration": 11.513462,
     "end_time": "2024-01-27T19:06:24.165491",
     "exception": false,
     "start_time": "2024-01-27T19:06:12.652029",
     "status": "completed"
    },
    "tags": []
   },
   "outputs": [
    {
     "name": "stderr",
     "output_type": "stream",
     "text": [
      "/opt/conda/lib/python3.10/site-packages/scipy/__init__.py:146: UserWarning: A NumPy version >=1.16.5 and <1.23.0 is required for this version of SciPy (detected version 1.24.3\n",
      "  warnings.warn(f\"A NumPy version >={np_minversion} and <{np_maxversion}\"\n"
     ]
    },
    {
     "name": "stdout",
     "output_type": "stream",
     "text": [
      "Downloading data from https://storage.googleapis.com/tensorflow/tf-keras-datasets/mnist.npz\n",
      "11490434/11490434 [==============================] - 0s 0us/step\n"
     ]
    }
   ],
   "source": [
    "from keras.datasets import mnist\n",
    "(train_img,train_label),(test_img,test_label)=mnist.load_data()"
   ]
  },
  {
   "cell_type": "code",
   "execution_count": 3,
   "id": "cbd07dcf",
   "metadata": {
    "execution": {
     "iopub.execute_input": "2024-01-27T19:06:24.173652Z",
     "iopub.status.busy": "2024-01-27T19:06:24.173120Z",
     "iopub.status.idle": "2024-01-27T19:06:24.415981Z",
     "shell.execute_reply": "2024-01-27T19:06:24.415096Z"
    },
    "papermill": {
     "duration": 0.24944,
     "end_time": "2024-01-27T19:06:24.418372",
     "exception": false,
     "start_time": "2024-01-27T19:06:24.168932",
     "status": "completed"
    },
    "tags": []
   },
   "outputs": [
    {
     "data": {
      "image/png": "[encoded data removed]",
      "text/plain": [
       "<Figure size 640x480 with 1 Axes>"
      ]
     },
     "metadata": {},
     "output_type": "display_data"
    },
    {
     "name": "stdout",
     "output_type": "stream",
     "text": [
      "5\n"
     ]
    }
   ],
   "source": [
    "import matplotlib.pyplot as plt\n",
    "plt.imshow(train_img[0])\n",
    "plt.show()\n",
    "print(train_label[0])"
   ]
  },
  {
   "cell_type": "code",
   "execution_count": 4,
   "id": "70e526b8",
   "metadata": {
    "execution": {
     "iopub.execute_input": "2024-01-27T19:06:24.426932Z",
     "iopub.status.busy": "2024-01-27T19:06:24.426350Z",
     "iopub.status.idle": "2024-01-27T19:06:25.079642Z",
     "shell.execute_reply": "2024-01-27T19:06:25.078844Z"
    },
    "papermill": {
     "duration": 0.660006,
     "end_time": "2024-01-27T19:06:25.081953",
     "exception": false,
     "start_time": "2024-01-27T19:06:24.421947",
     "status": "completed"
    },
    "tags": []
   },
   "outputs": [],
   "source": [
    "from keras import models\n",
    "from keras import layers\n",
    "from keras.utils import to_categorical\n",
    "from sklearn.model_selection import KFold\n",
    "import numpy as np"
   ]
  },
  {
   "cell_type": "code",
   "execution_count": 5,
   "id": "2a7eb3b5",
   "metadata": {
    "execution": {
     "iopub.execute_input": "2024-01-27T19:06:25.090691Z",
     "iopub.status.busy": "2024-01-27T19:06:25.090163Z",
     "iopub.status.idle": "2024-01-27T19:06:25.169608Z",
     "shell.execute_reply": "2024-01-27T19:06:25.168622Z"
    },
    "papermill": {
     "duration": 0.08627,
     "end_time": "2024-01-27T19:06:25.171978",
     "exception": false,
     "start_time": "2024-01-27T19:06:25.085708",
     "status": "completed"
    },
    "tags": []
   },
   "outputs": [],
   "source": [
    "train_img=train_img.reshape((60000,784)).astype('float32')/255.0\n",
    "test_img=test_img.reshape((10000,784)).astype('float32')/255.0\n",
    "train_label=to_categorical(train_label)\n",
    "test_label=to_categorical(test_label)"
   ]
  },
  {
   "cell_type": "code",
   "execution_count": 6,
   "id": "0ab44d31",
   "metadata": {
    "execution": {
     "iopub.execute_input": "2024-01-27T19:06:25.181245Z",
     "iopub.status.busy": "2024-01-27T19:06:25.180381Z",
     "iopub.status.idle": "2024-01-27T19:06:25.261841Z",
     "shell.execute_reply": "2024-01-27T19:06:25.260841Z"
    },
    "papermill": {
     "duration": 0.088428,
     "end_time": "2024-01-27T19:06:25.264154",
     "exception": false,
     "start_time": "2024-01-27T19:06:25.175726",
     "status": "completed"
    },
    "tags": []
   },
   "outputs": [],
   "source": [
    "X = np.concatenate((train_img, test_img), axis=0)\n",
    "Y = np.concatenate((train_label, test_label), axis=0)"
   ]
  },
  {
   "cell_type": "code",
   "execution_count": 7,
   "id": "276ecb4a",
   "metadata": {
    "execution": {
     "iopub.execute_input": "2024-01-27T19:06:25.273009Z",
     "iopub.status.busy": "2024-01-27T19:06:25.272295Z",
     "iopub.status.idle": "2024-01-27T19:14:08.677993Z",
     "shell.execute_reply": "2024-01-27T19:14:08.677003Z"
    },
    "papermill": {
     "duration": 463.41787,
     "end_time": "2024-01-27T19:14:08.685769",
     "exception": false,
     "start_time": "2024-01-27T19:06:25.267899",
     "status": "completed"
    },
    "tags": []
   },
   "outputs": [
    {
     "name": "stdout",
     "output_type": "stream",
     "text": [
      "accuracy: 98.01%\n",
      "accuracy: 97.66%\n",
      "accuracy: 97.47%\n",
      "accuracy: 97.27%\n",
      "accuracy: 97.80%\n",
      "accuracy: 97.51%\n",
      "accuracy: 97.84%\n",
      "accuracy: 97.44%\n",
      "accuracy: 97.73%\n",
      "accuracy: 97.64%\n",
      "97.64% (+/- 0.21%)\n"
     ]
    }
   ],
   "source": [
    "from keras.models import Sequential\n",
    "from keras.layers import Dense\n",
    "seed = 7\n",
    "np.random.seed(seed)\n",
    "kfold = KFold(n_splits=10, shuffle=True, random_state=seed)\n",
    "cvscores = []\n",
    "for train, test in kfold.split(X, np.argmax(Y, axis=1)):\n",
    "    model = Sequential()\n",
    "    model.add(Dense(128, input_dim=784, kernel_initializer='uniform', activation='relu'))\n",
    "    model.add(Dense(64, kernel_initializer='uniform', activation='relu'))\n",
    "    model.add(Dense(10, kernel_initializer='uniform', activation='softmax'))\n",
    "    model.compile(loss='categorical_crossentropy', optimizer='adam', metrics=['accuracy'])\n",
    "    model.fit(X[train], Y[train], epochs=10, batch_size=32, verbose=0)\n",
    "    scores = model.evaluate(X[test], Y[test], verbose=0)\n",
    "    print(\"%s: %.2f%%\" % (model.metrics_names[1], scores[1]*100))\n",
    "    cvscores.append(scores[1] * 100)\n",
    "print(\"%.2f%% (+/- %.2f%%)\" % (np.mean(cvscores), np.std(cvscores)))"
   ]
  },
  {
   "cell_type": "code",
   "execution_count": null,
   "id": "48492970",
   "metadata": {
    "papermill": {
     "duration": 0.003949,
     "end_time": "2024-01-27T19:14:08.693922",
     "exception": false,
     "start_time": "2024-01-27T19:14:08.689973",
     "status": "completed"
    },
    "tags": []
   },
   "outputs": [],
   "source": []
  }
 ],
 "metadata": {
  "kaggle": {
   "accelerator": "gpu",
   "dataSources": [],
   "dockerImageVersionId": 30636,
   "isGpuEnabled": true,
   "isInternetEnabled": true,
   "language": "python",
   "sourceType": "notebook"
  },
  "kernelspec": {
   "display_name": "Python 3",
   "language": "python",
   "name": "python3"
  },
  "language_info": {
   "codemirror_mode": {
    "name": "ipython",
    "version": 3
   },
   "file_extension": ".py",
   "mimetype": "text/x-python",
   "name": "python",
   "nbconvert_exporter": "python",
   "pygments_lexer": "ipython3",
   "version": "3.10.12"
  },
  "papermill": {
   "default_parameters": {},
   "duration": 482.653131,
   "end_time": "2024-01-27T19:14:11.313118",
   "environment_variables": {},
   "exception": null,
   "input_path": "__notebook__.ipynb",
   "output_path": "__notebook__.ipynb",
   "parameters": {},
   "start_time": "2024-01-27T19:06:08.659987",
   "version": "2.4.0"
  }
 },
 "nbformat": 4,
 "nbformat_minor": 5
}
